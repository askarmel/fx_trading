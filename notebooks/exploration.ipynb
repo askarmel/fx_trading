{
 "cells": [
  {
   "cell_type": "code",
   "execution_count": 61,
   "metadata": {},
   "outputs": [],
   "source": [
    "import requests\n",
    "import pandas as pd\n",
    "import json\n",
    "from dateutil import parser\n",
    "import constants.defs as defs"
   ]
  },
  {
   "cell_type": "code",
   "execution_count": 2,
   "metadata": {},
   "outputs": [],
   "source": [
    "API_KEY = defs.API_KEY\n",
    "ACCOUNT_ID = defs.ACCOUNT_ID\n",
    "OANDA_URL = defs.OANDA_URL"
   ]
  },
  {
   "cell_type": "code",
   "execution_count": 3,
   "metadata": {},
   "outputs": [],
   "source": [
    "session = requests.Session()"
   ]
  },
  {
   "cell_type": "code",
   "execution_count": 12,
   "metadata": {},
   "outputs": [],
   "source": [
    "session.headers.update({\n",
    "    \"Authorization\": f\"Bearer {API_KEY}\",\n",
    "    \"Content-Type\": \"application/json\"\n",
    "})"
   ]
  },
  {
   "cell_type": "code",
   "execution_count": 20,
   "metadata": {},
   "outputs": [],
   "source": [
    "params = dict(\n",
    "    count = 10,\n",
    "    granularity = \"H1\",\n",
    "    price = \"MBA\"\n",
    ")"
   ]
  },
  {
   "cell_type": "code",
   "execution_count": 21,
   "metadata": {},
   "outputs": [],
   "source": [
    "url = f\"{OANDA_URL}/instruments/EUR_USD/candles\""
   ]
  },
  {
   "cell_type": "code",
   "execution_count": 22,
   "metadata": {},
   "outputs": [],
   "source": [
    "response = session.get(url, params=params, data=None, headers=None)"
   ]
  },
  {
   "cell_type": "code",
   "execution_count": 23,
   "metadata": {},
   "outputs": [
    {
     "data": {
      "text/plain": [
       "200"
      ]
     },
     "execution_count": 23,
     "metadata": {},
     "output_type": "execute_result"
    }
   ],
   "source": [
    "response.status_code"
   ]
  },
  {
   "cell_type": "code",
   "execution_count": 24,
   "metadata": {},
   "outputs": [
    {
     "data": {
      "text/plain": [
       "{'instrument': 'EUR_USD',\n",
       " 'granularity': 'H1',\n",
       " 'candles': [{'complete': True,\n",
       "   'volume': 2386,\n",
       "   'time': '2023-04-11T03:00:00.000000000Z',\n",
       "   'bid': {'o': '1.08817', 'h': '1.08872', 'l': '1.08788', 'c': '1.08807'},\n",
       "   'mid': {'o': '1.08824', 'h': '1.08879', 'l': '1.08796', 'c': '1.08815'},\n",
       "   'ask': {'o': '1.08832', 'h': '1.08886', 'l': '1.08804', 'c': '1.08823'}},\n",
       "  {'complete': True,\n",
       "   'volume': 1729,\n",
       "   'time': '2023-04-11T04:00:00.000000000Z',\n",
       "   'bid': {'o': '1.08807', 'h': '1.08851', 'l': '1.08801', 'c': '1.08818'},\n",
       "   'mid': {'o': '1.08814', 'h': '1.08859', 'l': '1.08808', 'c': '1.08825'},\n",
       "   'ask': {'o': '1.08822', 'h': '1.08867', 'l': '1.08816', 'c': '1.08832'}},\n",
       "  {'complete': True,\n",
       "   'volume': 2575,\n",
       "   'time': '2023-04-11T05:00:00.000000000Z',\n",
       "   'bid': {'o': '1.08819', 'h': '1.08938', 'l': '1.08816', 'c': '1.08935'},\n",
       "   'mid': {'o': '1.08826', 'h': '1.08945', 'l': '1.08824', 'c': '1.08944'},\n",
       "   'ask': {'o': '1.08832', 'h': '1.08953', 'l': '1.08831', 'c': '1.08952'}},\n",
       "  {'complete': True,\n",
       "   'volume': 3941,\n",
       "   'time': '2023-04-11T06:00:00.000000000Z',\n",
       "   'bid': {'o': '1.08936', 'h': '1.08969', 'l': '1.08803', 'c': '1.08835'},\n",
       "   'mid': {'o': '1.08944', 'h': '1.08977', 'l': '1.08810', 'c': '1.08842'},\n",
       "   'ask': {'o': '1.08951', 'h': '1.08985', 'l': '1.08817', 'c': '1.08849'}},\n",
       "  {'complete': True,\n",
       "   'volume': 6427,\n",
       "   'time': '2023-04-11T07:00:00.000000000Z',\n",
       "   'bid': {'o': '1.08836', 'h': '1.09038', 'l': '1.08827', 'c': '1.08949'},\n",
       "   'mid': {'o': '1.08843', 'h': '1.09046', 'l': '1.08834', 'c': '1.08956'},\n",
       "   'ask': {'o': '1.08850', 'h': '1.09053', 'l': '1.08842', 'c': '1.08962'}},\n",
       "  {'complete': True,\n",
       "   'volume': 4085,\n",
       "   'time': '2023-04-11T08:00:00.000000000Z',\n",
       "   'bid': {'o': '1.08947', 'h': '1.09095', 'l': '1.08936', 'c': '1.09060'},\n",
       "   'mid': {'o': '1.08954', 'h': '1.09103', 'l': '1.08944', 'c': '1.09068'},\n",
       "   'ask': {'o': '1.08961', 'h': '1.09111', 'l': '1.08952', 'c': '1.09077'}},\n",
       "  {'complete': True,\n",
       "   'volume': 4515,\n",
       "   'time': '2023-04-11T09:00:00.000000000Z',\n",
       "   'bid': {'o': '1.09061', 'h': '1.09192', 'l': '1.09056', 'c': '1.09123'},\n",
       "   'mid': {'o': '1.09068', 'h': '1.09200', 'l': '1.09063', 'c': '1.09130'},\n",
       "   'ask': {'o': '1.09076', 'h': '1.09207', 'l': '1.09070', 'c': '1.09136'}},\n",
       "  {'complete': True,\n",
       "   'volume': 4137,\n",
       "   'time': '2023-04-11T10:00:00.000000000Z',\n",
       "   'bid': {'o': '1.09122', 'h': '1.09262', 'l': '1.09078', 'c': '1.09219'},\n",
       "   'mid': {'o': '1.09128', 'h': '1.09269', 'l': '1.09085', 'c': '1.09227'},\n",
       "   'ask': {'o': '1.09135', 'h': '1.09277', 'l': '1.09092', 'c': '1.09235'}},\n",
       "  {'complete': True,\n",
       "   'volume': 4546,\n",
       "   'time': '2023-04-11T11:00:00.000000000Z',\n",
       "   'bid': {'o': '1.09220', 'h': '1.09237', 'l': '1.09043', 'c': '1.09044'},\n",
       "   'mid': {'o': '1.09227', 'h': '1.09244', 'l': '1.09050', 'c': '1.09050'},\n",
       "   'ask': {'o': '1.09234', 'h': '1.09253', 'l': '1.09056', 'c': '1.09057'}},\n",
       "  {'complete': False,\n",
       "   'volume': 4254,\n",
       "   'time': '2023-04-11T12:00:00.000000000Z',\n",
       "   'bid': {'o': '1.09043', 'h': '1.09176', 'l': '1.09015', 'c': '1.09157'},\n",
       "   'mid': {'o': '1.09050', 'h': '1.09183', 'l': '1.09022', 'c': '1.09164'},\n",
       "   'ask': {'o': '1.09057', 'h': '1.09190', 'l': '1.09030', 'c': '1.09170'}}]}"
      ]
     },
     "execution_count": 24,
     "metadata": {},
     "output_type": "execute_result"
    }
   ],
   "source": [
    "response.json()"
   ]
  },
  {
   "cell_type": "code",
   "execution_count": 90,
   "metadata": {},
   "outputs": [],
   "source": [
    "url = f\"{OANDA_URL}/accounts/{ACCOUNT_ID}/instruments?instruments=EUR_USD,USD_CHF\""
   ]
  },
  {
   "cell_type": "code",
   "execution_count": 91,
   "metadata": {},
   "outputs": [],
   "source": [
    "response = session.get(url, params=None, headers=None)"
   ]
  },
  {
   "cell_type": "code",
   "execution_count": 92,
   "metadata": {},
   "outputs": [
    {
     "data": {
      "text/plain": [
       "200"
      ]
     },
     "execution_count": 92,
     "metadata": {},
     "output_type": "execute_result"
    }
   ],
   "source": [
    "response.status_code"
   ]
  },
  {
   "cell_type": "code",
   "execution_count": 88,
   "metadata": {},
   "outputs": [],
   "source": [
    "data = response.json()"
   ]
  },
  {
   "cell_type": "code",
   "execution_count": 89,
   "metadata": {},
   "outputs": [
    {
     "data": {
      "text/plain": [
       "{'errorMessage': \"Invalid value specified for 'instruments'\",\n",
       " 'errorCode': 'oanda::rest::core::InvalidParameterException'}"
      ]
     },
     "execution_count": 89,
     "metadata": {},
     "output_type": "execute_result"
    }
   ],
   "source": [
    "data.keys()"
   ]
  },
  {
   "cell_type": "code",
   "execution_count": 33,
   "metadata": {},
   "outputs": [],
   "source": [
    "instruments_list = data['instruments']"
   ]
  },
  {
   "cell_type": "code",
   "execution_count": 35,
   "metadata": {},
   "outputs": [
    {
     "data": {
      "text/plain": [
       "dict_keys(['name', 'type', 'displayName', 'pipLocation', 'displayPrecision', 'tradeUnitsPrecision', 'minimumTradeSize', 'maximumTrailingStopDistance', 'minimumTrailingStopDistance', 'maximumPositionSize', 'maximumOrderUnits', 'marginRate', 'guaranteedStopLossOrderMode', 'minimumGuaranteedStopLossDistance', 'guaranteedStopLossOrderExecutionPremium', 'guaranteedStopLossOrderLevelRestriction', 'tags', 'financing'])"
      ]
     },
     "execution_count": 35,
     "metadata": {},
     "output_type": "execute_result"
    }
   ],
   "source": [
    "instruments_list[0].keys()"
   ]
  },
  {
   "cell_type": "code",
   "execution_count": 36,
   "metadata": {},
   "outputs": [],
   "source": [
    "key_i = ['name', 'type', 'displayName', 'pipLocation', \n",
    "         'displayPrecision', 'tradeUnitsPrecision', 'marginRate']"
   ]
  },
  {
   "cell_type": "code",
   "execution_count": 75,
   "metadata": {},
   "outputs": [],
   "source": [
    "instruments_dict = dict()\n",
    "for i in instruments_list:\n",
    "    key = i['name']\n",
    "    instruments_dict[key] = {k: i[k] for k in key_i} \n"
   ]
  },
  {
   "cell_type": "code",
   "execution_count": 76,
   "metadata": {},
   "outputs": [
    {
     "data": {
      "text/plain": [
       "{'EUR_USD': {'name': 'EUR_USD',\n",
       "  'type': 'CURRENCY',\n",
       "  'displayName': 'EUR/USD',\n",
       "  'pipLocation': -4,\n",
       "  'displayPrecision': 5,\n",
       "  'tradeUnitsPrecision': 0,\n",
       "  'marginRate': '0.05'},\n",
       " 'USD_CHF': {'name': 'USD_CHF',\n",
       "  'type': 'CURRENCY',\n",
       "  'displayName': 'USD/CHF',\n",
       "  'pipLocation': -4,\n",
       "  'displayPrecision': 5,\n",
       "  'tradeUnitsPrecision': 0,\n",
       "  'marginRate': '0.05'}}"
      ]
     },
     "execution_count": 76,
     "metadata": {},
     "output_type": "execute_result"
    }
   ],
   "source": [
    "instruments_dict"
   ]
  },
  {
   "cell_type": "code",
   "execution_count": 49,
   "metadata": {},
   "outputs": [],
   "source": [
    "with open(\"../data/instruments.json\", \"w\") as f:\n",
    "    f.write(json.dumps(instruments_dict, indent=2))"
   ]
  },
  {
   "cell_type": "code",
   "execution_count": 53,
   "metadata": {},
   "outputs": [],
   "source": [
    "def fetch_candles(pair_name, count, granularity='H1'):\n",
    "    url = f\"{OANDA_URL}/instruments/{pair_name}/candles\"\n",
    "    params = dict(\n",
    "        count = count,\n",
    "        granularity = granularity,\n",
    "        price = \"MBA\"\n",
    "    )\n",
    "    response = session.get(url, params=params, headers=None)\n",
    "    data = response.json()\n",
    "\n",
    "    if response.status_code == 200:\n",
    "        if \"candles\" not in data:\n",
    "            data = []\n",
    "        else:\n",
    "            data = data['candles']\n",
    "\n",
    "    return response.status_code, data"
   ]
  },
  {
   "cell_type": "code",
   "execution_count": 54,
   "metadata": {},
   "outputs": [],
   "source": [
    "code, data = fetch_candles('EUR_USD', 20)"
   ]
  },
  {
   "cell_type": "code",
   "execution_count": 55,
   "metadata": {},
   "outputs": [
    {
     "data": {
      "text/plain": [
       "200"
      ]
     },
     "execution_count": 55,
     "metadata": {},
     "output_type": "execute_result"
    }
   ],
   "source": [
    "code"
   ]
  },
  {
   "cell_type": "code",
   "execution_count": 56,
   "metadata": {},
   "outputs": [
    {
     "data": {
      "text/plain": [
       "20"
      ]
     },
     "execution_count": 56,
     "metadata": {},
     "output_type": "execute_result"
    }
   ],
   "source": [
    "len(data)"
   ]
  },
  {
   "cell_type": "code",
   "execution_count": 58,
   "metadata": {},
   "outputs": [
    {
     "data": {
      "text/plain": [
       "{'complete': True,\n",
       " 'volume': 2527,\n",
       " 'time': '2023-04-10T18:00:00.000000000Z',\n",
       " 'bid': {'o': '1.08554', 'h': '1.08588', 'l': '1.08531', 'c': '1.08587'},\n",
       " 'mid': {'o': '1.08560', 'h': '1.08596', 'l': '1.08538', 'c': '1.08594'},\n",
       " 'ask': {'o': '1.08566', 'h': '1.08603', 'l': '1.08543', 'c': '1.08600'}}"
      ]
     },
     "execution_count": 58,
     "metadata": {},
     "output_type": "execute_result"
    }
   ],
   "source": [
    "data[0]"
   ]
  },
  {
   "cell_type": "code",
   "execution_count": 71,
   "metadata": {},
   "outputs": [],
   "source": [
    "\n",
    "def get_candles_df(data):\n",
    "    if not(data):\n",
    "        return pd.DataFrame.empty\n",
    "    \n",
    "    final_data = []\n",
    "    prices = ['mid', 'bid', 'ask']\n",
    "    ohlc = ['o', 'h', 'l', 'c']\n",
    "\n",
    "    for candle in data:\n",
    "        if candle['complete'] == False:\n",
    "            continue\n",
    "        new_dict = {}\n",
    "        new_dict['time'] = parser.parse(candle['time'])\n",
    "        new_dict['volume'] = candle['volume']\n",
    "        for p in prices:\n",
    "            for o in ohlc:\n",
    "                new_dict[f\"{p}_{o}\"] = float(candle[p][o])\n",
    "\n",
    "        final_data.append(new_dict)\n",
    "\n",
    "    return pd.DataFrame.from_dict(final_data)\n",
    "\n",
    "def create_data_file(pair_name, count=10, granularity=\"H1\"):\n",
    "    code, data = fetch_candles(pair_name, count, granularity)\n",
    "    if code != 200:\n",
    "        print(\"Failed\", pair_name, data, code)\n",
    "        return\n",
    "    if not(data):\n",
    "        print(\"No candles\", pair_name)\n",
    "    candles_df = get_candles_df(data)\n",
    "    candles_df.to_pickle(f\"../data/{pair_name}_{granularity}.pkl\")\n",
    "    print(f\"{pair_name} {granularity} {candles_df.shape[0]} candles {candles_df.time.min()}\")"
   ]
  },
  {
   "cell_type": "code",
   "execution_count": 69,
   "metadata": {},
   "outputs": [],
   "source": [
    "df = get_candles_df(data=data)"
   ]
  },
  {
   "cell_type": "code",
   "execution_count": 72,
   "metadata": {},
   "outputs": [
    {
     "name": "stdout",
     "output_type": "stream",
     "text": [
      "EUR_USD H1 9 candles 2023-04-11 04:00:00+00:00\n"
     ]
    }
   ],
   "source": [
    "create_data_file('EUR_USD')"
   ]
  },
  {
   "cell_type": "code",
   "execution_count": 73,
   "metadata": {},
   "outputs": [],
   "source": [
    "our_curr = ['EUR', 'USD', 'GBP', 'JPY', 'CHF', 'NZD', 'CAD', 'AUD']"
   ]
  },
  {
   "cell_type": "code",
   "execution_count": 93,
   "metadata": {},
   "outputs": [
    {
     "name": "stdout",
     "output_type": "stream",
     "text": [
      "EUR_USD H1 4000 candles 2022-08-18 18:00:00+00:00\n",
      "EUR_USD H4 4000 candles 2020-09-15 21:00:00+00:00\n",
      "USD_CHF H1 4000 candles 2022-08-18 18:00:00+00:00\n",
      "USD_CHF H4 4000 candles 2020-09-15 21:00:00+00:00\n"
     ]
    }
   ],
   "source": [
    "for p1 in our_curr:\n",
    "    for p2 in our_curr:\n",
    "        pr = f\"{p1}_{p2}\"\n",
    "        if pr in instruments_dict:\n",
    "            for g in [\"H1\", \"H4\"]:\n",
    "                create_data_file(pr, count=4001, granularity=g)"
   ]
  },
  {
   "cell_type": "code",
   "execution_count": null,
   "metadata": {},
   "outputs": [],
   "source": []
  }
 ],
 "metadata": {
  "kernelspec": {
   "display_name": "venv",
   "language": "python",
   "name": "python3"
  },
  "language_info": {
   "codemirror_mode": {
    "name": "ipython",
    "version": 3
   },
   "file_extension": ".py",
   "mimetype": "text/x-python",
   "name": "python",
   "nbconvert_exporter": "python",
   "pygments_lexer": "ipython3",
   "version": "3.9.12"
  },
  "orig_nbformat": 4
 },
 "nbformat": 4,
 "nbformat_minor": 2
}
